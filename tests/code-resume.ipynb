{
 "cells": [
  {
   "cell_type": "code",
   "execution_count": null,
   "id": "964d8d87",
   "metadata": {
    "vscode": {
     "languageId": "plaintext"
    }
   },
   "outputs": [],
   "source": [
    "def gerar_resumo_para_chat():\n",
    "    \"\"\"Gera um resumo compacto do código para compartilhar no chat\"\"\"\n",
    "    \n",
    "    resumo = \"# 🎯 RESUMO DO CÓDIGO KALKIE\\n\\n\"\n",
    "    \n",
    "    modulos = {\n",
    "        'main.py': 'Programa principal e menu',\n",
    "        'diet_plan.py': 'Cálculo de planos alimentares', \n",
    "        'calculator.py': 'Cálculos de déficit e metas',\n",
    "        'data_manager.py': 'Gestão de dados JSON',\n",
    "        'plot_generator.py': 'Geração de gráficos',\n",
    "        'activity_planner.py': 'Planejamento de atividades',\n",
    "        'calisthenics_calc.py': 'Calculadora Fibonacci',\n",
    "        'quadrant_config.py': 'Configuração de quadrantes',\n",
    "        'constants.py': 'Constantes globais'\n",
    "    }\n",
    "    \n",
    "    for arquivo, descricao in modulos.items():\n",
    "        caminho = f'src/{arquivo}'\n",
    "        if os.path.exists(caminho):\n",
    "            with open(caminho, 'r') as f:\n",
    "                linhas = len(f.readlines())\n",
    "                funcoes = os.popen(f'grep -c \"def \" {caminho}').read().strip()\n",
    "                \n",
    "            resumo += f\"## 📁 {arquivo}\\n\"\n",
    "            resumo += f\"- **Descrição**: {descricao}\\n\"\n",
    "            resumo += f\"- **Linhas**: {linhas}\\n\"\n",
    "            resumo += f\"- **Funções**: {funcoes}\\n\"\n",
    "            \n",
    "            # Adicionar funções principais\n",
    "            funcoes_lista = os.popen(f'grep \"def \" {caminho} | head -3').read().split('\\n')\n",
    "            resumo += \"- **Funções principais**:\\n\"\n",
    "            for funcao in funcoes_lista:\n",
    "                if funcao:\n",
    "                    nome_funcao = funcao.split('def ')[1].split('(')[0]\n",
    "                    resumo += f\"  - `{nome_funcao}()`\\n\"\n",
    "            \n",
    "            resumo += \"\\n\"\n",
    "    \n",
    "    # Salvar em arquivo\n",
    "    with open('resumo_codigo.md', 'w', encoding='utf-8') as f:\n",
    "        f.write(resumo)\n",
    "    \n",
    "    print(\"📋 Resumo gerado em 'resumo_codigo.md'\")\n",
    "    return resumo\n",
    "\n",
    "# Executar\n",
    "gerar_resumo_para_chat()"
   ]
  }
 ],
 "metadata": {
  "language_info": {
   "name": "python"
  }
 },
 "nbformat": 4,
 "nbformat_minor": 5
}
