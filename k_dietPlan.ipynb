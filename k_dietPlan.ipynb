import numpy as np
import matplotlib.pyplot as plt
from datetime import datetime, timedelta
from scipy.interpolate import interp1d

# --- Função Planejado ---
def f(x):
    return 0.6 * (10**(x/14))

# --- Pontos Planejado ---
x_curve = np.linspace(0, 14, 430)
y_curve = f(x_curve)

x_points = np.arange(0, 15, 1)
y_plan = f(x_points)

# Ajustar soma para ~42
target_total = 43
scale_factor = target_total / np.sum(y_plan)
y_curve *= scale_factor
y_plan *= scale_factor

# Quadrante 0 = ponto zero (0kg)
y_plan[0] = 0
accum_plan = np.cumsum(y_plan)

# Criar função de interpolação para a curva suave
accum_curve = np.cumsum(y_curve) * (accum_plan[-1] / np.sum(y_curve))

# --- Dados Reais ---
peso_inicial = 112.4  # Peso inicial em kg
y_real = [0, 1.7, -1.3, 2, -1.1, 2.8, -0.7]  # Valores reais de perda por quadrante
accum_real = np.cumsum(y_real)
x_real = np.arange(len(y_real))  # Corrigido para usar índices reais

# Data de início (ajuste conforme necessário)
data_inicio = datetime(2025, 7, 20)  # Exemplo: 20/07/25

# --- Projeção Corrigida ---
# Encontrar o ponto exato na curva suave que corresponde ao acumulado real
x_proj = []
y_proj = []
ponto_esperado = None
if len(y_real) > 0:
    last_real_value = accum_real[-1]
    
    # Encontrar o quadrante exato onde o planejado tem o valor acumulado de 1.3kg
    # Usando interpolação na curva suave
    f_interp = interp1d(accum_curve, x_curve, kind='linear', fill_value="extrapolate")
    x_esperado = f_interp(last_real_value)
    
    # Criar pontos para a projeção até este ponto
    mask = x_curve <= x_esperado
    x_proj = x_curve[mask]
    y_proj = accum_curve[mask]
    
    ponto_esperado = (x_esperado, last_real_value)

# --- Calcular dias acumulados por fase ---
dias_por_quadrante = [0]  # Quadrante 0 = dia 0
dias_acumulados = [0]     # Acumulado inicia em 0
datas_formatadas = [data_inicio.strftime('%d/%m/%y')]  # Formato dd/mm/yy

# Fase verde (quadrantes 1-3): 5 dias por quadrante
for i in range(1, 4):  # Quadrantes 1 a 3
    dias_por_quadrante.append(5)
    dias_acumulados.append(dias_acumulados[-1] + 5)
    nova_data = data_inicio + timedelta(days=dias_acumulados[-1])
    datas_formatadas.append(nova_data.strftime('%d/%m/%y'))

# Fase azul (quadrantes 4-7): 7 dias por quadrante
for i in range(4, 8):  # Quadrantes 4 a 7
    dias_por_quadrante.append(7)
    dias_acumulados.append(dias_acumulados[-1] + 7)
    nova_data = data_inicio + timedelta(days=dias_acumulados[-1])
    datas_formatadas.append(nova_data.strftime('%d/%m/%y'))

# Fase roxa (quadrantes 8-14): 10 dias por quadrante
for i in range(8, 15):  # Quadrantes 8 a 14
    dias_por_quadrante.append(10)
    dias_acumulados.append(dias_acumulados[-1] + 10)
    nova_data = data_inicio + timedelta(days=dias_acumulados[-1])
    datas_formatadas.append(nova_data.strftime('%d/%m/%y'))

# --- PLOTAGEM ---
plt.figure(figsize=(16, 9))
ax = plt.gca()

# Fases coloridas no fundo com dias calculados
ax.axvspan(-0.5, 3, color='green', alpha=0.2, lw=0)  # Quadrantes 0-3
ax.axvspan(3, 7, color='blue', alpha=0.2, lw=0)   # Quadrantes 4-7
ax.axvspan(7, 14.5, color='purple', alpha=0.2, lw=0) # Quadrantes 8-14

# Adicionar rótulos de fases (acima do gráfico)
max_y = max(accum_plan.max(), accum_real.max() if len(y_real) > 0 else 0) + 5
plt.text(1.5, max_y, '5 dias/quad', ha='center', va='bottom', 
         color='darkgreen', fontsize=9, bbox=dict(facecolor='white', alpha=0.8))
plt.text(5, max_y, '7 dias/quad', ha='center', va='bottom',
         color='darkblue', fontsize=9, bbox=dict(facecolor='white', alpha=0.8))
plt.text(10.5, max_y, '10 dias/quad', ha='center', va='bottom',
         color='purple', fontsize=9, bbox=dict(facecolor='white', alpha=0.8))

# Projeção Corrigida: apenas até o ponto exato na curva planejada
if len(y_proj) > 0 and ponto_esperado is not None:
    plt.plot(x_proj, y_proj, color='blue', alpha=0.4, linewidth=8, zorder=1, label='Projeção')
    # Marcar o ponto onde o planejado atinge o acumulado real
    plt.plot(ponto_esperado[0], ponto_esperado[1], 'bo', markersize=10, zorder=4)
    
    # Formatar rótulo com quadrante aproximado
    quad_aprox = f'Q{ponto_esperado[0]:.1f}'
    plt.text(ponto_esperado[0], ponto_esperado[1] + 2, f'{quad_aprox}: {ponto_esperado[1]:.1f}kg',
             color='blue', fontsize=10, ha='center', va='bottom', weight='bold', zorder=3)

# Planejado (linha pontilhada)
plt.plot(x_points, accum_plan, color='blue', linestyle='--', linewidth=2, label='Planejado', zorder=2)

# Rótulos na linha azul (valores por quadrante)
for i, val in enumerate(y_plan):
    if i == 0:
        continue
    ha = 'left' if i == 1 else ('right' if i == 14 else 'center')
    plt.text(x_points[i], accum_plan[i] + 0.3, f'{val:.1f}',
             color='blue', fontsize=8, ha=ha, va='bottom', weight='bold', zorder=3)

# Real
if len(y_real) > 0:
    plt.plot(x_real, accum_real, color='red', linewidth=2, marker='o', label='Real', zorder=3)
    for i, val in enumerate(accum_real):
        plt.text(x_real[i], val + 0.3, f'{val:.1f}', color='red', fontsize=8,
                 ha='center', va='bottom', weight='bold', zorder=3)

# --- Eixo X com rótulos principais ---
x_tick_labels = []
for i in range(len(accum_plan)):
    if i == 0:
        # Quadrante 0 mostra peso inicial
        main_label = f'Q{i}\nP:0.0/{peso_inicial:.1f}\nD:0'
    else:
        # Outros quadrantes mostram perda acumulada e peso atual projetado
        peso_projetado = peso_inicial - accum_plan[i]
        main_label = f'Q{i}\nP:{accum_plan[i]:.1f}/{peso_projetado:.1f}\nD:{dias_acumulados[i]}'
    x_tick_labels.append(main_label)

ax.set_xticks(x_points)
ax.set_xticklabels(x_tick_labels, fontsize=9)

# Adicionar rótulos de data (dd/mm/yy)
for i in range(1, len(x_points)):
    # Ajuste da posição vertical para evitar o warning
    ax.text(x_points[i] - 0.2, -7.0, datas_formatadas[i], 
            rotation=30, ha='left', va='top', fontsize=10, color='black')

# --- Configurações finais ---
plt.ylabel('Perda de Peso Acumulada (kg)')
plt.title(f'Evolução do Peso - Início: {peso_inicial}kg')
plt.xlim(-0.5, 14.5)
plt.ylim(-3, max_y)
plt.grid(True, linestyle='--', alpha=0.6, color='gray')
plt.legend()
plt.tight_layout()
plt.show()