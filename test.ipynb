{
 "cells": [
  {
   "cell_type": "code",
   "execution_count": 41,
   "id": "3847add1-9303-4653-8b5f-330489ded366",
   "metadata": {},
   "outputs": [
    {
     "name": "stdout",
     "output_type": "stream",
     "text": [
      "🔍 VERIFICANDO IMPORTAÇÕES DO NUMPY:\n",
      "   ✅ src/calculator.py\n",
      "   ✅ src/plot_generator.py\n",
      "   ✅ src/main.py\n",
      "   ✅ src/quadrant_config.py\n"
     ]
    }
   ],
   "source": [
    "# Verificar todos os arquivos que usam numpy\n",
    "arquivos_com_numpy = [\n",
    "    'src/calculator.py',\n",
    "    'src/plot_generator.py', \n",
    "    'src/main.py',\n",
    "    'src/quadrant_config.py'\n",
    "]\n",
    "\n",
    "print(\"🔍 VERIFICANDO IMPORTAÇÕES DO NUMPY:\")\n",
    "for arquivo in arquivos_com_numpy:\n",
    "    try:\n",
    "        with open(arquivo, 'r') as f:\n",
    "            conteudo = f.read()\n",
    "            tem_numpy = 'import numpy' in conteudo\n",
    "            status = \"✅\" if tem_numpy else \"❌\"\n",
    "            print(f\"   {status} {arquivo}\")\n",
    "            \n",
    "            if not tem_numpy and arquivo == 'src/main.py':\n",
    "                print(\"      ⚠️  Precisa adicionar import numpy as np\")\n",
    "                \n",
    "    except FileNotFoundError:\n",
    "        print(f\"   ❌ {arquivo} (arquivo não encontrado)\")"
   ]
  }
 ],
 "metadata": {
  "kernelspec": {
   "display_name": "Python [conda env:base] *",
   "language": "python",
   "name": "conda-base-py"
  },
  "language_info": {
   "codemirror_mode": {
    "name": "ipython",
    "version": 3
   },
   "file_extension": ".py",
   "mimetype": "text/x-python",
   "name": "python",
   "nbconvert_exporter": "python",
   "pygments_lexer": "ipython3",
   "version": "3.12.7"
  }
 },
 "nbformat": 4,
 "nbformat_minor": 5
}
